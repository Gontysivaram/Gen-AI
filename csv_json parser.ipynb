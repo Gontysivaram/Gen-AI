{
 "cells": [
  {
   "cell_type": "code",
   "execution_count": 38,
   "id": "3ec7e066-7420-493e-90ce-95932bac450f",
   "metadata": {},
   "outputs": [],
   "source": [
    "import os\n",
    "os.environ['OPENAI_API_KEY']='place your open ai api key here'"
   ]
  },
  {
   "cell_type": "code",
   "execution_count": 39,
   "id": "7d864d60-d5d5-423e-ae38-00e70e3ed18b",
   "metadata": {},
   "outputs": [
    {
     "name": "stdout",
     "output_type": "stream",
     "text": [
      "Requirement already satisfied: langchain in d:\\anaconda\\lib\\site-packages (0.3.0)\n",
      "Requirement already satisfied: PyYAML>=5.3 in d:\\anaconda\\lib\\site-packages (from langchain) (6.0.1)\n",
      "Requirement already satisfied: SQLAlchemy<3,>=1.4 in d:\\anaconda\\lib\\site-packages (from langchain) (2.0.30)\n",
      "Requirement already satisfied: aiohttp<4.0.0,>=3.8.3 in d:\\anaconda\\lib\\site-packages (from langchain) (3.9.5)\n",
      "Requirement already satisfied: langchain-core<0.4.0,>=0.3.0 in d:\\anaconda\\lib\\site-packages (from langchain) (0.3.0)\n",
      "Requirement already satisfied: langchain-text-splitters<0.4.0,>=0.3.0 in d:\\anaconda\\lib\\site-packages (from langchain) (0.3.0)\n",
      "Requirement already satisfied: langsmith<0.2.0,>=0.1.17 in d:\\anaconda\\lib\\site-packages (from langchain) (0.1.120)\n",
      "Requirement already satisfied: numpy<2.0.0,>=1.26.0 in d:\\anaconda\\lib\\site-packages (from langchain) (1.26.4)\n",
      "Requirement already satisfied: pydantic<3.0.0,>=2.7.4 in d:\\anaconda\\lib\\site-packages (from langchain) (2.9.1)\n",
      "Requirement already satisfied: requests<3,>=2 in d:\\anaconda\\lib\\site-packages (from langchain) (2.32.2)\n",
      "Requirement already satisfied: tenacity!=8.4.0,<9.0.0,>=8.1.0 in d:\\anaconda\\lib\\site-packages (from langchain) (8.2.2)\n",
      "Requirement already satisfied: aiosignal>=1.1.2 in d:\\anaconda\\lib\\site-packages (from aiohttp<4.0.0,>=3.8.3->langchain) (1.2.0)\n",
      "Requirement already satisfied: attrs>=17.3.0 in d:\\anaconda\\lib\\site-packages (from aiohttp<4.0.0,>=3.8.3->langchain) (23.1.0)\n",
      "Requirement already satisfied: frozenlist>=1.1.1 in d:\\anaconda\\lib\\site-packages (from aiohttp<4.0.0,>=3.8.3->langchain) (1.4.0)\n",
      "Requirement already satisfied: multidict<7.0,>=4.5 in d:\\anaconda\\lib\\site-packages (from aiohttp<4.0.0,>=3.8.3->langchain) (6.0.4)\n",
      "Requirement already satisfied: yarl<2.0,>=1.0 in d:\\anaconda\\lib\\site-packages (from aiohttp<4.0.0,>=3.8.3->langchain) (1.9.3)\n",
      "Requirement already satisfied: jsonpatch<2.0,>=1.33 in d:\\anaconda\\lib\\site-packages (from langchain-core<0.4.0,>=0.3.0->langchain) (1.33)\n",
      "Requirement already satisfied: packaging<25,>=23.2 in d:\\anaconda\\lib\\site-packages (from langchain-core<0.4.0,>=0.3.0->langchain) (23.2)\n",
      "Requirement already satisfied: typing-extensions>=4.7 in d:\\anaconda\\lib\\site-packages (from langchain-core<0.4.0,>=0.3.0->langchain) (4.11.0)\n",
      "Requirement already satisfied: httpx<1,>=0.23.0 in d:\\anaconda\\lib\\site-packages (from langsmith<0.2.0,>=0.1.17->langchain) (0.26.0)\n",
      "Requirement already satisfied: orjson<4.0.0,>=3.9.14 in d:\\anaconda\\lib\\site-packages (from langsmith<0.2.0,>=0.1.17->langchain) (3.10.7)\n",
      "Requirement already satisfied: annotated-types>=0.6.0 in d:\\anaconda\\lib\\site-packages (from pydantic<3.0.0,>=2.7.4->langchain) (0.6.0)\n",
      "Requirement already satisfied: pydantic-core==2.23.3 in d:\\anaconda\\lib\\site-packages (from pydantic<3.0.0,>=2.7.4->langchain) (2.23.3)\n",
      "Requirement already satisfied: charset-normalizer<4,>=2 in d:\\anaconda\\lib\\site-packages (from requests<3,>=2->langchain) (2.0.4)\n",
      "Requirement already satisfied: idna<4,>=2.5 in d:\\anaconda\\lib\\site-packages (from requests<3,>=2->langchain) (3.7)\n",
      "Requirement already satisfied: urllib3<3,>=1.21.1 in d:\\anaconda\\lib\\site-packages (from requests<3,>=2->langchain) (2.2.2)\n",
      "Requirement already satisfied: certifi>=2017.4.17 in d:\\anaconda\\lib\\site-packages (from requests<3,>=2->langchain) (2024.7.4)\n",
      "Requirement already satisfied: greenlet!=0.4.17 in d:\\anaconda\\lib\\site-packages (from SQLAlchemy<3,>=1.4->langchain) (3.0.1)\n",
      "Requirement already satisfied: anyio in d:\\anaconda\\lib\\site-packages (from httpx<1,>=0.23.0->langsmith<0.2.0,>=0.1.17->langchain) (4.2.0)\n",
      "Requirement already satisfied: httpcore==1.* in d:\\anaconda\\lib\\site-packages (from httpx<1,>=0.23.0->langsmith<0.2.0,>=0.1.17->langchain) (1.0.2)\n",
      "Requirement already satisfied: sniffio in d:\\anaconda\\lib\\site-packages (from httpx<1,>=0.23.0->langsmith<0.2.0,>=0.1.17->langchain) (1.3.0)\n",
      "Requirement already satisfied: h11<0.15,>=0.13 in d:\\anaconda\\lib\\site-packages (from httpcore==1.*->httpx<1,>=0.23.0->langsmith<0.2.0,>=0.1.17->langchain) (0.14.0)\n",
      "Requirement already satisfied: jsonpointer>=1.9 in d:\\anaconda\\lib\\site-packages (from jsonpatch<2.0,>=1.33->langchain-core<0.4.0,>=0.3.0->langchain) (2.1)\n"
     ]
    }
   ],
   "source": [
    "!pip install langchain"
   ]
  },
  {
   "cell_type": "code",
   "execution_count": 40,
   "id": "5698daaf-5f02-4f47-9111-e9def3422fea",
   "metadata": {},
   "outputs": [
    {
     "name": "stdout",
     "output_type": "stream",
     "text": [
      "Requirement already satisfied: langchain_community in d:\\anaconda\\lib\\site-packages (0.3.0)\n",
      "Requirement already satisfied: PyYAML>=5.3 in d:\\anaconda\\lib\\site-packages (from langchain_community) (6.0.1)\n",
      "Requirement already satisfied: SQLAlchemy<3,>=1.4 in d:\\anaconda\\lib\\site-packages (from langchain_community) (2.0.30)\n",
      "Requirement already satisfied: aiohttp<4.0.0,>=3.8.3 in d:\\anaconda\\lib\\site-packages (from langchain_community) (3.9.5)\n",
      "Requirement already satisfied: dataclasses-json<0.7,>=0.5.7 in d:\\anaconda\\lib\\site-packages (from langchain_community) (0.6.7)\n",
      "Requirement already satisfied: langchain<0.4.0,>=0.3.0 in d:\\anaconda\\lib\\site-packages (from langchain_community) (0.3.0)\n",
      "Requirement already satisfied: langchain-core<0.4.0,>=0.3.0 in d:\\anaconda\\lib\\site-packages (from langchain_community) (0.3.0)\n",
      "Requirement already satisfied: langsmith<0.2.0,>=0.1.112 in d:\\anaconda\\lib\\site-packages (from langchain_community) (0.1.120)\n",
      "Requirement already satisfied: numpy<2.0.0,>=1.26.0 in d:\\anaconda\\lib\\site-packages (from langchain_community) (1.26.4)\n",
      "Requirement already satisfied: pydantic-settings<3.0.0,>=2.4.0 in d:\\anaconda\\lib\\site-packages (from langchain_community) (2.5.2)\n",
      "Requirement already satisfied: requests<3,>=2 in d:\\anaconda\\lib\\site-packages (from langchain_community) (2.32.2)\n",
      "Requirement already satisfied: tenacity!=8.4.0,<9.0.0,>=8.1.0 in d:\\anaconda\\lib\\site-packages (from langchain_community) (8.2.2)\n",
      "Requirement already satisfied: aiosignal>=1.1.2 in d:\\anaconda\\lib\\site-packages (from aiohttp<4.0.0,>=3.8.3->langchain_community) (1.2.0)\n",
      "Requirement already satisfied: attrs>=17.3.0 in d:\\anaconda\\lib\\site-packages (from aiohttp<4.0.0,>=3.8.3->langchain_community) (23.1.0)\n",
      "Requirement already satisfied: frozenlist>=1.1.1 in d:\\anaconda\\lib\\site-packages (from aiohttp<4.0.0,>=3.8.3->langchain_community) (1.4.0)\n",
      "Requirement already satisfied: multidict<7.0,>=4.5 in d:\\anaconda\\lib\\site-packages (from aiohttp<4.0.0,>=3.8.3->langchain_community) (6.0.4)\n",
      "Requirement already satisfied: yarl<2.0,>=1.0 in d:\\anaconda\\lib\\site-packages (from aiohttp<4.0.0,>=3.8.3->langchain_community) (1.9.3)\n",
      "Requirement already satisfied: marshmallow<4.0.0,>=3.18.0 in d:\\anaconda\\lib\\site-packages (from dataclasses-json<0.7,>=0.5.7->langchain_community) (3.22.0)\n",
      "Requirement already satisfied: typing-inspect<1,>=0.4.0 in d:\\anaconda\\lib\\site-packages (from dataclasses-json<0.7,>=0.5.7->langchain_community) (0.9.0)\n",
      "Requirement already satisfied: langchain-text-splitters<0.4.0,>=0.3.0 in d:\\anaconda\\lib\\site-packages (from langchain<0.4.0,>=0.3.0->langchain_community) (0.3.0)\n",
      "Requirement already satisfied: pydantic<3.0.0,>=2.7.4 in d:\\anaconda\\lib\\site-packages (from langchain<0.4.0,>=0.3.0->langchain_community) (2.9.1)\n",
      "Requirement already satisfied: jsonpatch<2.0,>=1.33 in d:\\anaconda\\lib\\site-packages (from langchain-core<0.4.0,>=0.3.0->langchain_community) (1.33)\n",
      "Requirement already satisfied: packaging<25,>=23.2 in d:\\anaconda\\lib\\site-packages (from langchain-core<0.4.0,>=0.3.0->langchain_community) (23.2)\n",
      "Requirement already satisfied: typing-extensions>=4.7 in d:\\anaconda\\lib\\site-packages (from langchain-core<0.4.0,>=0.3.0->langchain_community) (4.11.0)\n",
      "Requirement already satisfied: httpx<1,>=0.23.0 in d:\\anaconda\\lib\\site-packages (from langsmith<0.2.0,>=0.1.112->langchain_community) (0.26.0)\n",
      "Requirement already satisfied: orjson<4.0.0,>=3.9.14 in d:\\anaconda\\lib\\site-packages (from langsmith<0.2.0,>=0.1.112->langchain_community) (3.10.7)\n",
      "Requirement already satisfied: python-dotenv>=0.21.0 in d:\\anaconda\\lib\\site-packages (from pydantic-settings<3.0.0,>=2.4.0->langchain_community) (0.21.0)\n",
      "Requirement already satisfied: charset-normalizer<4,>=2 in d:\\anaconda\\lib\\site-packages (from requests<3,>=2->langchain_community) (2.0.4)\n",
      "Requirement already satisfied: idna<4,>=2.5 in d:\\anaconda\\lib\\site-packages (from requests<3,>=2->langchain_community) (3.7)\n",
      "Requirement already satisfied: urllib3<3,>=1.21.1 in d:\\anaconda\\lib\\site-packages (from requests<3,>=2->langchain_community) (2.2.2)\n",
      "Requirement already satisfied: certifi>=2017.4.17 in d:\\anaconda\\lib\\site-packages (from requests<3,>=2->langchain_community) (2024.7.4)\n",
      "Requirement already satisfied: greenlet!=0.4.17 in d:\\anaconda\\lib\\site-packages (from SQLAlchemy<3,>=1.4->langchain_community) (3.0.1)\n",
      "Requirement already satisfied: anyio in d:\\anaconda\\lib\\site-packages (from httpx<1,>=0.23.0->langsmith<0.2.0,>=0.1.112->langchain_community) (4.2.0)\n",
      "Requirement already satisfied: httpcore==1.* in d:\\anaconda\\lib\\site-packages (from httpx<1,>=0.23.0->langsmith<0.2.0,>=0.1.112->langchain_community) (1.0.2)\n",
      "Requirement already satisfied: sniffio in d:\\anaconda\\lib\\site-packages (from httpx<1,>=0.23.0->langsmith<0.2.0,>=0.1.112->langchain_community) (1.3.0)\n",
      "Requirement already satisfied: h11<0.15,>=0.13 in d:\\anaconda\\lib\\site-packages (from httpcore==1.*->httpx<1,>=0.23.0->langsmith<0.2.0,>=0.1.112->langchain_community) (0.14.0)\n",
      "Requirement already satisfied: jsonpointer>=1.9 in d:\\anaconda\\lib\\site-packages (from jsonpatch<2.0,>=1.33->langchain-core<0.4.0,>=0.3.0->langchain_community) (2.1)\n",
      "Requirement already satisfied: annotated-types>=0.6.0 in d:\\anaconda\\lib\\site-packages (from pydantic<3.0.0,>=2.7.4->langchain<0.4.0,>=0.3.0->langchain_community) (0.6.0)\n",
      "Requirement already satisfied: pydantic-core==2.23.3 in d:\\anaconda\\lib\\site-packages (from pydantic<3.0.0,>=2.7.4->langchain<0.4.0,>=0.3.0->langchain_community) (2.23.3)\n",
      "Requirement already satisfied: mypy-extensions>=0.3.0 in d:\\anaconda\\lib\\site-packages (from typing-inspect<1,>=0.4.0->dataclasses-json<0.7,>=0.5.7->langchain_community) (1.0.0)\n"
     ]
    }
   ],
   "source": [
    "!pip install langchain_community"
   ]
  },
  {
   "cell_type": "code",
   "execution_count": 41,
   "id": "c61d4f06-45c6-4cb6-99dc-f61a870eefdc",
   "metadata": {},
   "outputs": [],
   "source": [
    "from langchain import chat_models"
   ]
  },
  {
   "cell_type": "code",
   "execution_count": 42,
   "id": "24c6f737-141f-4355-87ce-17136cfd97f3",
   "metadata": {},
   "outputs": [
    {
     "name": "stdout",
     "output_type": "stream",
     "text": [
      "Requirement already satisfied: openai in d:\\anaconda\\lib\\site-packages (1.45.0)\n",
      "Requirement already satisfied: anyio<5,>=3.5.0 in d:\\anaconda\\lib\\site-packages (from openai) (4.2.0)\n",
      "Requirement already satisfied: distro<2,>=1.7.0 in d:\\anaconda\\lib\\site-packages (from openai) (1.9.0)\n",
      "Requirement already satisfied: httpx<1,>=0.23.0 in d:\\anaconda\\lib\\site-packages (from openai) (0.26.0)\n",
      "Requirement already satisfied: jiter<1,>=0.4.0 in d:\\anaconda\\lib\\site-packages (from openai) (0.5.0)\n",
      "Requirement already satisfied: pydantic<3,>=1.9.0 in d:\\anaconda\\lib\\site-packages (from openai) (2.9.1)\n",
      "Requirement already satisfied: sniffio in d:\\anaconda\\lib\\site-packages (from openai) (1.3.0)\n",
      "Requirement already satisfied: tqdm>4 in d:\\anaconda\\lib\\site-packages (from openai) (4.66.4)\n",
      "Requirement already satisfied: typing-extensions<5,>=4.11 in d:\\anaconda\\lib\\site-packages (from openai) (4.11.0)\n",
      "Requirement already satisfied: idna>=2.8 in d:\\anaconda\\lib\\site-packages (from anyio<5,>=3.5.0->openai) (3.7)\n",
      "Requirement already satisfied: certifi in d:\\anaconda\\lib\\site-packages (from httpx<1,>=0.23.0->openai) (2024.7.4)\n",
      "Requirement already satisfied: httpcore==1.* in d:\\anaconda\\lib\\site-packages (from httpx<1,>=0.23.0->openai) (1.0.2)\n",
      "Requirement already satisfied: h11<0.15,>=0.13 in d:\\anaconda\\lib\\site-packages (from httpcore==1.*->httpx<1,>=0.23.0->openai) (0.14.0)\n",
      "Requirement already satisfied: annotated-types>=0.6.0 in d:\\anaconda\\lib\\site-packages (from pydantic<3,>=1.9.0->openai) (0.6.0)\n",
      "Requirement already satisfied: pydantic-core==2.23.3 in d:\\anaconda\\lib\\site-packages (from pydantic<3,>=1.9.0->openai) (2.23.3)\n",
      "Requirement already satisfied: colorama in d:\\anaconda\\lib\\site-packages (from tqdm>4->openai) (0.4.6)\n"
     ]
    }
   ],
   "source": [
    "!pip install openai\n"
   ]
  },
  {
   "cell_type": "code",
   "execution_count": 43,
   "id": "bf57455d-d461-4de9-a856-5abbf7a2bec5",
   "metadata": {},
   "outputs": [],
   "source": [
    "from langchain.chat_models import ChatOpenAI\n",
    "chat=ChatOpenAI()\n"
   ]
  },
  {
   "cell_type": "code",
   "execution_count": 44,
   "id": "a233ac52-a6f4-4151-8a9c-dcdd1c0ff36c",
   "metadata": {},
   "outputs": [],
   "source": [
    "from langchain.llms import OpenAI\n",
    "from langchain.prompts import PromptTemplate"
   ]
  },
  {
   "cell_type": "code",
   "execution_count": 45,
   "id": "5f67ff3d-0687-4faf-b7b3-0a40006d6326",
   "metadata": {},
   "outputs": [],
   "source": [
    "\n",
    "model=OpenAI()\n"
   ]
  },
  {
   "cell_type": "code",
   "execution_count": 46,
   "id": "f50e44fa-0b29-487e-8af1-21e9ae1117fd",
   "metadata": {},
   "outputs": [],
   "source": [
    "prompt_template=PromptTemplate.from_template(\n",
    "    \"as a {role} tellme about{content}.\")"
   ]
  },
  {
   "cell_type": "code",
   "execution_count": 47,
   "id": "94a11927-e7c3-4f16-a1c8-3d49f89a3356",
   "metadata": {},
   "outputs": [
    {
     "name": "stdout",
     "output_type": "stream",
     "text": [
      "as a Dataanalyst tellme aboutsql.\n"
     ]
    }
   ],
   "source": [
    "filled_prompt=prompt_template.format(role='Dataanalyst',content='sql')\n",
    "print(filled_prompt)"
   ]
  },
  {
   "cell_type": "code",
   "execution_count": 48,
   "id": "fc87bbcf-3c1c-4e9d-918b-4e1a387a30ce",
   "metadata": {},
   "outputs": [
    {
     "name": "stdout",
     "output_type": "stream",
     "text": [
      "\n",
      "\n",
      "SQL (Structured Query Language) is a programming language used to manage and manipulate data stored in relational databases. As a data analyst, SQL is a crucial tool for extracting and analyzing data from databases.\n",
      "\n",
      "Some common tasks that can be performed using SQL include:\n",
      "\n",
      "1. Retrieving data: SQL allows analysts to query databases to extract specific data that meets certain criteria. This can be done using SELECT statements, where the analyst can specify the columns and rows they want to retrieve.\n",
      "\n",
      "2. Filtering and sorting data: SQL also allows for the filtering and sorting of data based on specific conditions. This can be done using the WHERE clause to filter data and the ORDER BY clause to sort data in ascending or descending order.\n",
      "\n",
      "3. Aggregating data: SQL has built-in functions that allow analysts to summarize and aggregate data, such as calculating averages, maximums, minimums, and totals.\n",
      "\n",
      "4. Joining data: SQL enables analysts to combine data from multiple tables using JOIN statements. This is helpful when working with databases that have data stored in different tables.\n",
      "\n",
      "5. Creating and modifying tables: SQL also allows for the creation and modification of database tables. This includes adding or deleting columns, changing data types, and setting constraints on data.\n",
      "\n",
      "6. Data manipulation: SQL can also be used\n"
     ]
    }
   ],
   "source": [
    "prompt_and_model=prompt_template|model\n",
    "query=\"tell me about dataanalyst role.\"\n",
    "output=prompt_and_model.invoke({\"role\":\"Dataanalyst\",\"content\":'sql'})\n",
    "print(output)                                "
   ]
  },
  {
   "cell_type": "code",
   "execution_count": 49,
   "id": "5b154ae3-570c-45c1-9346-03326b2d0b9a",
   "metadata": {},
   "outputs": [
    {
     "name": "stdout",
     "output_type": "stream",
     "text": [
      "as a orthopedic tellme aboutbones.\n"
     ]
    }
   ],
   "source": [
    "filled_prompt=prompt_template.format(role='orthopedic',content='bones')\n",
    "print(filled_prompt)"
   ]
  },
  {
   "cell_type": "code",
   "execution_count": 50,
   "id": "b65bc362-d4e2-462e-b907-61dfd8dadde2",
   "metadata": {},
   "outputs": [
    {
     "name": "stdout",
     "output_type": "stream",
     "text": [
      "\n",
      "\n",
      "Bones are an important part of the musculoskeletal system and provide support, structure, and protection for the body. They are made up of a hard outer layer called the cortical bone, and a spongy inner layer called the trabecular bone. The outer layer is dense and strong, while the inner layer is more porous and flexible.\n",
      "\n",
      "There are 206 bones in the human body, and they come in a variety of shapes and sizes. The longest bone in the body is the femur (thigh bone), while the smallest bone is the stapes (found in the middle ear). Bones also have different functions, such as providing a framework for the body, anchoring muscles, and protecting vital organs.\n",
      "\n",
      "Bones are constantly changing and remodeling throughout our lives. This process is known as bone metabolism and is regulated by cells called osteoblasts and osteoclasts. Osteoblasts build new bone, while osteoclasts break down old bone. This allows bones to adapt and repair themselves in response to stress and injury.\n",
      "\n",
      "In addition to providing structural support, bones also play a role in producing blood cells. The bone marrow, found inside the bones, is responsible for producing red blood cells, white blood cells, and platelets.\n",
      "\n",
      "\n"
     ]
    }
   ],
   "source": [
    "prompt_and_model=prompt_template|model\n",
    "query=\"tell me about the bones.\"\n",
    "output=prompt_and_model.invoke({\"role\":\"orthopedic\",\"content\":'bones'})\n",
    "print(output)                                "
   ]
  },
  {
   "cell_type": "code",
   "execution_count": 51,
   "id": "52e2f64c-22c8-40da-8e03-b17b306a5abe",
   "metadata": {},
   "outputs": [
    {
     "name": "stdout",
     "output_type": "stream",
     "text": [
      "as a director tellme aboutbones.\n"
     ]
    }
   ],
   "source": [
    "filled_prompt=prompt_template.format(role='director',content='bones')\n",
    "print(filled_prompt)"
   ]
  },
  {
   "cell_type": "code",
   "execution_count": 52,
   "id": "fc0d7357-e425-458b-975a-cf4ab03d01b2",
   "metadata": {},
   "outputs": [
    {
     "name": "stdout",
     "output_type": "stream",
     "text": [
      "\n",
      "Direction is a crucial aspect of filmmaking that involves the planning and execution of all visual and auditory elements in a film. As a director, my role is to guide and shape the overall vision of the film, ensuring that all the elements work together to tell a cohesive story.\n",
      "\n",
      "One of the key responsibilities of a director is to work closely with the film's screenwriter to understand the story and characters and to translate them onto the screen. This involves making decisions about the tone, pacing, and style of the film, as well as the use of camera angles, lighting, and sound.\n",
      "\n",
      "In addition to working with the screenwriter, I also collaborate with the production team to bring the script to life. This includes casting actors, creating a visual aesthetic through set design and costumes, and working with the cinematographer to capture the desired look and feel of the film.\n",
      "\n",
      "During filming, I am responsible for directing the actors and guiding their performances. This involves providing feedback and direction to ensure that their portrayals are in line with the character's motivations and the overall vision of the film.\n",
      "\n",
      "Direction also involves making creative decisions in post-production, such as selecting the best takes, editing the footage, and working with the sound team to create a cohesive and impactful soundtrack.\n",
      "\n",
      "As a director, I\n"
     ]
    }
   ],
   "source": [
    "prompt_and_model=prompt_template|model\n",
    "query=\"tell me about the direction.\"\n",
    "output=prompt_and_model.invoke({\"role\":\"director\",\"content\":'direction'})\n",
    "print(output)                                "
   ]
  },
  {
   "cell_type": "code",
   "execution_count": 53,
   "id": "da8227f6-0a0f-4715-b7ae-5d6c86d942c1",
   "metadata": {},
   "outputs": [
    {
     "name": "stdout",
     "output_type": "stream",
     "text": [
      "The radius of a circle is a line segment that connects the center of the circle to any point on the circle itself. It is always constant for a given circle, regardless of where the point is located on the circle. The length of the radius is denoted by the letter \"r\" and is used in various mathematical calculations involving circles.\n",
      "\n",
      "The radius is an important parameter in determining the properties of a circle. It is half the diameter of the circle, which is a line segment that passes through the center of the circle and has its endpoints on the circle itself. The radius is used to calculate the circumference, area, and other properties of a circle.\n",
      "\n",
      "In summary, the radius of a circle is a line segment that connects the center of the circle to any point on the circle itself. It is a fundamental parameter that is used in various mathematical calculations involving circles.\n"
     ]
    }
   ],
   "source": [
    "#part 1\n",
    "from langchain.schema.messages import HumanMessage,SystemMessage\n",
    "messages=[\n",
    "    SystemMessage(content='You are maths teacher'),\n",
    "    HumanMessage(content=\"explain about radius\"),]\n",
    "response=chat.invoke(messages)\n",
    "print(response.content)"
   ]
  },
  {
   "cell_type": "code",
   "execution_count": 54,
   "id": "9f056aa8-00fa-4cd5-87c2-813a6a947584",
   "metadata": {},
   "outputs": [
    {
     "name": "stdout",
     "output_type": "stream",
     "text": [
      "Pi (π) is a mathematical constant that represents the ratio of a circle's circumference to its diameter. It is an irrational number, meaning it cannot be expressed as a simple fraction and its decimal representation goes on infinitely without repeating. The value of pi is approximately 3.14159, but it is often rounded to 3.14 for practical purposes.\n",
      "\n",
      "Pi is used in various mathematical and scientific calculations involving circles, such as calculating the area or circumference of a circle, calculating the volume of a sphere, and in trigonometry functions involving circles.\n",
      "\n",
      "Pi has fascinated mathematicians for centuries, and its value has been calculated to trillions of decimal places using advanced computer algorithms. It is denoted by the Greek letter π and is a fundamental constant in mathematics that appears in many equations and formulas.\n"
     ]
    }
   ],
   "source": [
    "#part 2 \n",
    "from langchain.schema.messages import HumanMessage,SystemMessage\n",
    "messages=[\n",
    "    SystemMessage(content='You are maths teacher'),\n",
    "    HumanMessage(content=\"explain about pi\"),]\n",
    "response=chat.invoke(messages)\n",
    "print(response.content)"
   ]
  },
  {
   "cell_type": "code",
   "execution_count": 55,
   "id": "996663d2-f2a5-46fa-8943-4470c5f77885",
   "metadata": {},
   "outputs": [
    {
     "name": "stdout",
     "output_type": "stream",
     "text": [
      "A palindrome number is a number that remains the same when its digits are reversed. In other words, if you read a palindrome number from left to right or right to left, it will be the same number. \n",
      "\n",
      "For example, the number 121 is a palindrome number because it reads the same forwards and backwards. Similarly, 1331, 3443, and 4554 are also palindrome numbers.\n",
      "\n",
      "Palindrome numbers are interesting because they exhibit a unique symmetry in their digits. They are commonly used in mathematics and computer science for various applications, such as in number theory, cryptography, and data structures.\n",
      "\n",
      "To determine if a number is a palindrome, you can reverse its digits and compare it with the original number. If they are the same, then the number is a palindrome.\n"
     ]
    }
   ],
   "source": [
    "#part 3\n",
    "from langchain.schema.messages import HumanMessage,SystemMessage\n",
    "messages=[\n",
    "    SystemMessage(content='You are maths teacher'),\n",
    "    HumanMessage(content=\"explain about palindrome numbers\"),]\n",
    "response=chat.invoke(messages)\n",
    "print(response.content)"
   ]
  },
  {
   "cell_type": "code",
   "execution_count": 56,
   "id": "f07cff6d-1e1b-44da-8f5d-55ee7a92dd23",
   "metadata": {},
   "outputs": [
    {
     "name": "stdout",
     "output_type": "stream",
     "text": [
      " A  palindrome  number  is  a  number  that  reads  the  same  forwards  and  backwards .  In  other  words ,  if  you  reverse  the  digits  of  a  palindrome  number ,  you  will  get  the  same  number .\n",
      "\n",
      " For  example ,  the  number   121  is  a  palindrome  number  because  it  reads  the  same  from  left  to  right  as  it  does  from  right  to  left .  Similarly ,  the  number   123 21  is  also  a  palindrome  number .\n",
      "\n",
      " Palindrome  numbers  are  interesting  because  they  exhibit  a  sym metrical  pattern ,  and  they  can  be  found  in  various  number  systems ,  not  just  in  our  base - 10  decimal  system .  \n",
      "\n",
      " In  mathematics ,  palindrome  numbers  are  often  used  in  number  theory  and  recreational  mathematics  for  various  puzzles  and  challenges .  They  can  also  be  used  in  coding  and  computer  science  for  certain  algorithms  and  problems .\n",
      "\n",
      " I  hope  this  explanation  helps  you  understand  more  about  palindrome  numbers !  Let  me  know  if  you  have  any  more  questions .  "
     ]
    }
   ],
   "source": [
    "response1=chat.stream(messages)\n",
    "for i1 in response1:\n",
    "    print(i1.content,end=\" \" ,flush=True)"
   ]
  },
  {
   "cell_type": "code",
   "execution_count": 57,
   "id": "cdfd282b-01c8-4933-b72c-6f25ad1c750b",
   "metadata": {},
   "outputs": [],
   "source": [
    "import os \n",
    "os.environ['OPENAI_API_KEY']='place your key here'\n"
   ]
  },
  {
   "cell_type": "code",
   "execution_count": 58,
   "id": "479a982a-1fda-40fb-b430-04b1b47f3ecd",
   "metadata": {},
   "outputs": [],
   "source": [
    "from langchain.llms import OpenAI\n",
    "from langchain.prompts import ChatPromptTemplate"
   ]
  },
  {
   "cell_type": "code",
   "execution_count": 59,
   "id": "a9511931-fb9a-458e-8e9e-c40467fac232",
   "metadata": {},
   "outputs": [],
   "source": [
    "chat_template=ChatPromptTemplate.from_messages(\n",
    "    [\n",
    "        (\"system\",'You are a chemistry teacher.Your name is {name}.'),\n",
    "        ('human',\"hello,how are you doing?\"),\n",
    "        (\"ai\",\"im doing well,thanks!\"),\n",
    "        ('human',\"{user_input}\"),\n",
    "    ]\n",
    ")\n"
   ]
  },
  {
   "cell_type": "code",
   "execution_count": 60,
   "id": "c8fbefc7-8698-4fc2-b019-5801481f43ed",
   "metadata": {},
   "outputs": [
    {
     "name": "stdout",
     "output_type": "stream",
     "text": [
      "content='You are a chemistry teacher.Your name is siva.' additional_kwargs={} response_metadata={}\n",
      "content='hello,how are you doing?' additional_kwargs={} response_metadata={}\n",
      "content='im doing well,thanks!' additional_kwargs={} response_metadata={}\n",
      "content='what is your name?' additional_kwargs={} response_metadata={}\n"
     ]
    }
   ],
   "source": [
    "formatted_messages=chat_template.format_messages(name='siva',\n",
    "user_input=\"what is your name?\")\n",
    "for message  in formatted_messages:\n",
    "    print(message)\n"
   ]
  },
  {
   "cell_type": "code",
   "execution_count": 61,
   "id": "0fa9057b-635b-487e-9ac8-d035e2fcb6f2",
   "metadata": {},
   "outputs": [
    {
     "name": "stdout",
     "output_type": "stream",
     "text": [
      "\n",
      "AI: I'm sorry, I cannot assist with physics topics. My expertise is in chemistry.\n"
     ]
    }
   ],
   "source": [
    "prompt_and_model=chat_template| model\n",
    "output=prompt_and_model.invoke({ 'name':'siva','user_input':\"tell me about newrons law of motion\"})\n",
    "print(output)"
   ]
  },
  {
   "cell_type": "code",
   "execution_count": 65,
   "id": "e23c325c-ba32-4264-ade1-64b10bb372ca",
   "metadata": {},
   "outputs": [
    {
     "name": "stdout",
     "output_type": "stream",
     "text": [
      "['Mumbai Indians', 'Delhi Capitals', 'Chennai Super Kings', 'Kolkata Knight Riders', 'Royal Challengers Bangalore']\n"
     ]
    }
   ],
   "source": [
    "from langchain.output_parsers import CommaSeparatedListOutputParser\n",
    "from langchain.prompts import PromptTemplate\n",
    "output_parser=CommaSeparatedListOutputParser()\n",
    "format_instructions=output_parser.get_format_instructions()\n",
    "prompt=PromptTemplate(\n",
    "    template=\"list five {subject}.\\n{format_instructions}\",\n",
    "    input_variables=['subject'],\n",
    "    partial_variables={\"format_instructions\":format_instructions}\n",
    "                       )\n",
    "query=\"Indian Premier League Teams\"\n",
    "output=model(prompt.format(subject=query))\n",
    "parsed_result=output_parser.parse(output)\n",
    "print(parsed_result)"
   ]
  },
  {
   "cell_type": "markdown",
   "id": "3106aca5-9954-4945-9d9a-c32b0f24ae74",
   "metadata": {},
   "source": [
    "json parser"
   ]
  },
  {
   "cell_type": "code",
   "execution_count": 69,
   "id": "5420bbc9-b2c0-4fcd-89fc-9da8af2c92f6",
   "metadata": {},
   "outputs": [],
   "source": [
    "import os \n",
    "os.environ['OPENAI_API_KEY']='place your key here'"
   ]
  },
  {
   "cell_type": "markdown",
   "id": "ca1349ab-30b7-49ea-adfc-c732fb7d6941",
   "metadata": {},
   "source": [
    "import classes"
   ]
  },
  {
   "cell_type": "code",
   "execution_count": 88,
   "id": "262a8c58-aecd-4f9a-b882-5369d14d2aee",
   "metadata": {},
   "outputs": [],
   "source": [
    "from langchain.llms import OpenAI\n",
    "from langchain.prompts import PromptTemplate\n"
   ]
  },
  {
   "cell_type": "markdown",
   "id": "7ff2fa9d-8d51-44d9-a866-e3c12c92d336",
   "metadata": {},
   "source": [
    "Initilaze  of the model\n"
   ]
  },
  {
   "cell_type": "code",
   "execution_count": 104,
   "id": "d486434d-a335-4baa-af45-58736734b31a",
   "metadata": {},
   "outputs": [],
   "source": [
    "model=OpenAI()"
   ]
  },
  {
   "cell_type": "markdown",
   "id": "8eb68557-91f6-4092-b4b2-3c9b777a733c",
   "metadata": {},
   "source": [
    "create a prompt template"
   ]
  },
  {
   "cell_type": "code",
   "execution_count": 107,
   "id": "f617e628-c3b8-4aa8-aa57-86f10982d07b",
   "metadata": {},
   "outputs": [],
   "source": [
    "prompt_template=PromptTemplate.from_template(\"As a {role} tell me about {content}.\")"
   ]
  },
  {
   "cell_type": "markdown",
   "id": "e9181d33-5d52-417b-a052-f8033b4b24d0",
   "metadata": {},
   "source": [
    "using the format method"
   ]
  },
  {
   "cell_type": "code",
   "execution_count": 110,
   "id": "b1578fe9-7522-4c73-b589-9f81ab0e26de",
   "metadata": {},
   "outputs": [
    {
     "name": "stdout",
     "output_type": "stream",
     "text": [
      "As a Physics Teacher tell me about kinematics.\n"
     ]
    }
   ],
   "source": [
    "filled_prompt=prompt_template.format(role=\"Physics Teacher\",content=\"kinematics\")\n",
    "print(filled_prompt)"
   ]
  },
  {
   "cell_type": "markdown",
   "id": "1aa1725d-dc57-4758-90a1-48e8a732d925",
   "metadata": {},
   "source": [
    "create a combined prompt template and model pipeline"
   ]
  },
  {
   "cell_type": "code",
   "execution_count": 113,
   "id": "0702a59a-3c56-41ac-9adf-7a02dce950dc",
   "metadata": {},
   "outputs": [
    {
     "name": "stdout",
     "output_type": "stream",
     "text": [
      "\n",
      "\n",
      "Kinematics is the branch of physics that deals with the motion of objects without considering the forces that cause the motion. It is concerned with describing and analyzing the position, velocity, and acceleration of objects as they move through space and time. Kinematics is an essential concept in understanding the basic laws of motion and is a fundamental topic in physics education.\n",
      "\n",
      "The three key concepts in kinematics are position, velocity, and acceleration. Position describes the location of an object in space at a specific time. Velocity is the rate of change of an object's position with respect to time, and acceleration is the rate of change of an object's velocity with respect to time.\n",
      "\n",
      "One of the most important equations in kinematics is the equation of motion, also known as the kinematic equation. This equation relates an object's position, velocity, and acceleration and is expressed as:\n",
      "\n",
      "x = x0 + v0t + ½at²\n",
      "\n",
      "Where x is the final position, x0 is the initial position, v0 is the initial velocity, t is the time, and a is the acceleration.\n",
      "\n",
      "Another key concept in kinematics is displacement, which is the change in an object's position. It is a vector quantity and is expressed as the difference between the final and initial positions.\n",
      "\n",
      "In\n"
     ]
    }
   ],
   "source": [
    "prompt_and_model=prompt_template | model\n",
    "query=\"Tell me about the newton law of motion\"\n",
    "output=prompt_and_model.invoke({\"role\":\"Physics Teacher\",\"content\":\"kinematics\"})\n",
    "print(output)"
   ]
  },
  {
   "cell_type": "markdown",
   "id": "206b4593-4361-47db-8c77-aff00135fc8c",
   "metadata": {},
   "source": [
    "import and create an simplejsonoutputparser"
   ]
  },
  {
   "cell_type": "code",
   "execution_count": 126,
   "id": "0fa2c4dc-88c4-4c2d-9cad-23045f4da56c",
   "metadata": {},
   "outputs": [
    {
     "name": "stdout",
     "output_type": "stream",
     "text": [
      "{'birthdate': 'October 2, 1869', 'birthplace': 'Porbandar, India'}\n"
     ]
    }
   ],
   "source": [
    "from langchain.output_parsers.json import SimpleJsonOutputParser\n",
    "json_prompt=PromptTemplate.from_template(\"Return a Json object with birthdate and birthplace key that answers the  following question :{question}\")\n",
    "json_parser=SimpleJsonOutputParser()\n",
    "json_chain=json_prompt | model | json_parser\n",
    "result_list=json_chain.invoke({\"question\":\"when and where was mahatma  gandhi  birth?\"})\n",
    "print(result_list)\n"
   ]
  },
  {
   "cell_type": "code",
   "execution_count": null,
   "id": "537a7ab1-7931-44bc-a995-95d4e471d585",
   "metadata": {},
   "outputs": [],
   "source": []
  }
 ],
 "metadata": {
  "kernelspec": {
   "display_name": "Python 3 (ipykernel)",
   "language": "python",
   "name": "python3"
  },
  "language_info": {
   "codemirror_mode": {
    "name": "ipython",
    "version": 3
   },
   "file_extension": ".py",
   "mimetype": "text/x-python",
   "name": "python",
   "nbconvert_exporter": "python",
   "pygments_lexer": "ipython3",
   "version": "3.12.4"
  }
 },
 "nbformat": 4,
 "nbformat_minor": 5
}
