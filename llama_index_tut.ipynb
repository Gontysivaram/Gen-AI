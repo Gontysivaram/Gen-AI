{
 "cells": [
  {
   "cell_type": "code",
   "execution_count": 1,
   "id": "c7ee753f-dc66-4cca-a964-e1a47e9032c8",
   "metadata": {},
   "outputs": [],
   "source": [
    "import os\n",
    "os.environ[\"OPENAI_API_KEY\"]=\"place your open_ai_api_key\""
   ]
  },
  {
   "cell_type": "code",
   "execution_count": 2,
   "id": "699a650f-fd4c-4253-8527-331b94e59351",
   "metadata": {},
   "outputs": [],
   "source": [
    "f_path=\"give your file path(pdf)\""
   ]
  },
  {
   "cell_type": "code",
   "execution_count": 6,
   "id": "b4b72844-d055-4d8e-a6c2-dd3a87503073",
   "metadata": {},
   "outputs": [],
   "source": [
    "import llama_index"
   ]
  },
  {
   "cell_type": "code",
   "execution_count": 7,
   "id": "a371478a-9097-489b-8a82-e5e9d9bbedb5",
   "metadata": {},
   "outputs": [],
   "source": [
    "from llama_index.core import SimpleDirectoryReader\n",
    "reader=SimpleDirectoryReader(input_files=[f_path])"
   ]
  },
  {
   "cell_type": "code",
   "execution_count": 5,
   "id": "77f0ebfc-e547-4430-9603-aa29c42f811c",
   "metadata": {},
   "outputs": [
    {
     "name": "stdout",
     "output_type": "stream",
     "text": [
      "Collecting llama_index\n",
      "  Downloading llama_index-0.11.9-py3-none-any.whl.metadata (11 kB)\n",
      "Collecting llama-index-agent-openai<0.4.0,>=0.3.1 (from llama_index)\n",
      "  Downloading llama_index_agent_openai-0.3.1-py3-none-any.whl.metadata (677 bytes)\n",
      "Collecting llama-index-cli<0.4.0,>=0.3.1 (from llama_index)\n",
      "  Downloading llama_index_cli-0.3.1-py3-none-any.whl.metadata (1.5 kB)\n",
      "Collecting llama-index-core<0.12.0,>=0.11.9 (from llama_index)\n",
      "  Downloading llama_index_core-0.11.9-py3-none-any.whl.metadata (2.4 kB)\n",
      "Collecting llama-index-embeddings-openai<0.3.0,>=0.2.4 (from llama_index)\n",
      "  Downloading llama_index_embeddings_openai-0.2.4-py3-none-any.whl.metadata (635 bytes)\n",
      "Collecting llama-index-indices-managed-llama-cloud>=0.3.0 (from llama_index)\n",
      "  Downloading llama_index_indices_managed_llama_cloud-0.3.0-py3-none-any.whl.metadata (3.8 kB)\n",
      "Collecting llama-index-legacy<0.10.0,>=0.9.48 (from llama_index)\n",
      "  Downloading llama_index_legacy-0.9.48.post3-py3-none-any.whl.metadata (8.5 kB)\n",
      "Collecting llama-index-llms-openai<0.3.0,>=0.2.3 (from llama_index)\n",
      "  Downloading llama_index_llms_openai-0.2.5-py3-none-any.whl.metadata (705 bytes)\n",
      "Collecting llama-index-multi-modal-llms-openai<0.3.0,>=0.2.0 (from llama_index)\n",
      "  Downloading llama_index_multi_modal_llms_openai-0.2.0-py3-none-any.whl.metadata (728 bytes)\n",
      "Collecting llama-index-program-openai<0.3.0,>=0.2.0 (from llama_index)\n",
      "  Downloading llama_index_program_openai-0.2.0-py3-none-any.whl.metadata (766 bytes)\n",
      "Collecting llama-index-question-gen-openai<0.3.0,>=0.2.0 (from llama_index)\n",
      "  Downloading llama_index_question_gen_openai-0.2.0-py3-none-any.whl.metadata (785 bytes)\n",
      "Collecting llama-index-readers-file<0.3.0,>=0.2.0 (from llama_index)\n",
      "  Downloading llama_index_readers_file-0.2.1-py3-none-any.whl.metadata (5.4 kB)\n",
      "Collecting llama-index-readers-llama-parse>=0.3.0 (from llama_index)\n",
      "  Downloading llama_index_readers_llama_parse-0.3.0-py3-none-any.whl.metadata (3.5 kB)\n",
      "Collecting nltk>3.8.1 (from llama_index)\n",
      "  Downloading nltk-3.9.1-py3-none-any.whl.metadata (2.9 kB)\n",
      "Requirement already satisfied: openai>=1.14.0 in c:\\users\\janardhan\\anaconda3\\lib\\site-packages (from llama-index-agent-openai<0.4.0,>=0.3.1->llama_index) (1.35.14)\n",
      "Requirement already satisfied: PyYAML>=6.0.1 in c:\\users\\janardhan\\anaconda3\\lib\\site-packages (from llama-index-core<0.12.0,>=0.11.9->llama_index) (6.0.1)\n",
      "Requirement already satisfied: SQLAlchemy>=1.4.49 in c:\\users\\janardhan\\anaconda3\\lib\\site-packages (from SQLAlchemy[asyncio]>=1.4.49->llama-index-core<0.12.0,>=0.11.9->llama_index) (2.0.25)\n",
      "Requirement already satisfied: aiohttp<4.0.0,>=3.8.6 in c:\\users\\janardhan\\anaconda3\\lib\\site-packages (from llama-index-core<0.12.0,>=0.11.9->llama_index) (3.9.3)\n",
      "Requirement already satisfied: dataclasses-json in c:\\users\\janardhan\\anaconda3\\lib\\site-packages (from llama-index-core<0.12.0,>=0.11.9->llama_index) (0.6.7)\n",
      "Collecting deprecated>=1.2.9.3 (from llama-index-core<0.12.0,>=0.11.9->llama_index)\n",
      "  Downloading Deprecated-1.2.14-py2.py3-none-any.whl.metadata (5.4 kB)\n",
      "Collecting dirtyjson<2.0.0,>=1.0.8 (from llama-index-core<0.12.0,>=0.11.9->llama_index)\n",
      "  Downloading dirtyjson-1.0.8-py3-none-any.whl.metadata (11 kB)\n",
      "Requirement already satisfied: fsspec>=2023.5.0 in c:\\users\\janardhan\\anaconda3\\lib\\site-packages (from llama-index-core<0.12.0,>=0.11.9->llama_index) (2023.10.0)\n",
      "Requirement already satisfied: httpx in c:\\users\\janardhan\\anaconda3\\lib\\site-packages (from llama-index-core<0.12.0,>=0.11.9->llama_index) (0.27.0)\n",
      "Requirement already satisfied: nest-asyncio<2.0.0,>=1.5.8 in c:\\users\\janardhan\\anaconda3\\lib\\site-packages (from llama-index-core<0.12.0,>=0.11.9->llama_index) (1.6.0)\n",
      "Requirement already satisfied: networkx>=3.0 in c:\\users\\janardhan\\anaconda3\\lib\\site-packages (from llama-index-core<0.12.0,>=0.11.9->llama_index) (3.1)\n",
      "Requirement already satisfied: numpy<2.0.0 in c:\\users\\janardhan\\anaconda3\\lib\\site-packages (from llama-index-core<0.12.0,>=0.11.9->llama_index) (1.26.4)\n",
      "Requirement already satisfied: pillow>=9.0.0 in c:\\users\\janardhan\\anaconda3\\lib\\site-packages (from llama-index-core<0.12.0,>=0.11.9->llama_index) (10.2.0)\n",
      "Requirement already satisfied: pydantic<3.0.0,>=2.7.0 in c:\\users\\janardhan\\anaconda3\\lib\\site-packages (from llama-index-core<0.12.0,>=0.11.9->llama_index) (2.8.2)\n",
      "Requirement already satisfied: requests>=2.31.0 in c:\\users\\janardhan\\anaconda3\\lib\\site-packages (from llama-index-core<0.12.0,>=0.11.9->llama_index) (2.31.0)\n",
      "Requirement already satisfied: tenacity!=8.4.0,<9.0.0,>=8.2.0 in c:\\users\\janardhan\\anaconda3\\lib\\site-packages (from llama-index-core<0.12.0,>=0.11.9->llama_index) (8.2.2)\n",
      "Requirement already satisfied: tiktoken>=0.3.3 in c:\\users\\janardhan\\anaconda3\\lib\\site-packages (from llama-index-core<0.12.0,>=0.11.9->llama_index) (0.7.0)\n",
      "Collecting tqdm<5.0.0,>=4.66.1 (from llama-index-core<0.12.0,>=0.11.9->llama_index)\n",
      "  Downloading tqdm-4.66.5-py3-none-any.whl.metadata (57 kB)\n",
      "     ---------------------------------------- 0.0/57.6 kB ? eta -:--:--\n",
      "     --------------------- ------------------ 30.7/57.6 kB 1.3 MB/s eta 0:00:01\n",
      "     -------------------------------------- 57.6/57.6 kB 751.8 kB/s eta 0:00:00\n",
      "Requirement already satisfied: typing-extensions>=4.5.0 in c:\\users\\janardhan\\anaconda3\\lib\\site-packages (from llama-index-core<0.12.0,>=0.11.9->llama_index) (4.9.0)\n",
      "Requirement already satisfied: typing-inspect>=0.8.0 in c:\\users\\janardhan\\anaconda3\\lib\\site-packages (from llama-index-core<0.12.0,>=0.11.9->llama_index) (0.9.0)\n",
      "Requirement already satisfied: wrapt in c:\\users\\janardhan\\anaconda3\\lib\\site-packages (from llama-index-core<0.12.0,>=0.11.9->llama_index) (1.14.1)\n",
      "Collecting llama-cloud>=0.0.11 (from llama-index-indices-managed-llama-cloud>=0.3.0->llama_index)\n",
      "  Downloading llama_cloud-0.0.17-py3-none-any.whl.metadata (751 bytes)\n",
      "Requirement already satisfied: pandas in c:\\users\\janardhan\\anaconda3\\lib\\site-packages (from llama-index-legacy<0.10.0,>=0.9.48->llama_index) (2.1.4)\n",
      "Collecting openai>=1.14.0 (from llama-index-agent-openai<0.4.0,>=0.3.1->llama_index)\n",
      "  Downloading openai-1.45.0-py3-none-any.whl.metadata (22 kB)\n",
      "Collecting beautifulsoup4<5.0.0,>=4.12.3 (from llama-index-readers-file<0.3.0,>=0.2.0->llama_index)\n",
      "  Downloading beautifulsoup4-4.12.3-py3-none-any.whl.metadata (3.8 kB)\n",
      "Requirement already satisfied: pypdf<5.0.0,>=4.0.1 in c:\\users\\janardhan\\anaconda3\\lib\\site-packages (from llama-index-readers-file<0.3.0,>=0.2.0->llama_index) (4.3.0)\n",
      "Collecting striprtf<0.0.27,>=0.0.26 (from llama-index-readers-file<0.3.0,>=0.2.0->llama_index)\n",
      "  Downloading striprtf-0.0.26-py3-none-any.whl.metadata (2.1 kB)\n",
      "Collecting llama-parse>=0.5.0 (from llama-index-readers-llama-parse>=0.3.0->llama_index)\n",
      "  Downloading llama_parse-0.5.5-py3-none-any.whl.metadata (6.1 kB)\n",
      "Requirement already satisfied: click in c:\\users\\janardhan\\anaconda3\\lib\\site-packages (from nltk>3.8.1->llama_index) (8.1.7)\n",
      "Requirement already satisfied: joblib in c:\\users\\janardhan\\anaconda3\\lib\\site-packages (from nltk>3.8.1->llama_index) (1.2.0)\n",
      "Requirement already satisfied: regex>=2021.8.3 in c:\\users\\janardhan\\anaconda3\\lib\\site-packages (from nltk>3.8.1->llama_index) (2023.10.3)\n",
      "Requirement already satisfied: aiosignal>=1.1.2 in c:\\users\\janardhan\\anaconda3\\lib\\site-packages (from aiohttp<4.0.0,>=3.8.6->llama-index-core<0.12.0,>=0.11.9->llama_index) (1.2.0)\n",
      "Requirement already satisfied: attrs>=17.3.0 in c:\\users\\janardhan\\anaconda3\\lib\\site-packages (from aiohttp<4.0.0,>=3.8.6->llama-index-core<0.12.0,>=0.11.9->llama_index) (23.1.0)\n",
      "Requirement already satisfied: frozenlist>=1.1.1 in c:\\users\\janardhan\\anaconda3\\lib\\site-packages (from aiohttp<4.0.0,>=3.8.6->llama-index-core<0.12.0,>=0.11.9->llama_index) (1.4.0)\n",
      "Requirement already satisfied: multidict<7.0,>=4.5 in c:\\users\\janardhan\\anaconda3\\lib\\site-packages (from aiohttp<4.0.0,>=3.8.6->llama-index-core<0.12.0,>=0.11.9->llama_index) (6.0.4)\n",
      "Requirement already satisfied: yarl<2.0,>=1.0 in c:\\users\\janardhan\\anaconda3\\lib\\site-packages (from aiohttp<4.0.0,>=3.8.6->llama-index-core<0.12.0,>=0.11.9->llama_index) (1.9.3)\n",
      "Requirement already satisfied: soupsieve>1.2 in c:\\users\\janardhan\\anaconda3\\lib\\site-packages (from beautifulsoup4<5.0.0,>=4.12.3->llama-index-readers-file<0.3.0,>=0.2.0->llama_index) (2.5)\n",
      "Requirement already satisfied: anyio in c:\\users\\janardhan\\anaconda3\\lib\\site-packages (from httpx->llama-index-core<0.12.0,>=0.11.9->llama_index) (4.2.0)\n",
      "Requirement already satisfied: certifi in c:\\users\\janardhan\\anaconda3\\lib\\site-packages (from httpx->llama-index-core<0.12.0,>=0.11.9->llama_index) (2024.2.2)\n",
      "Requirement already satisfied: httpcore==1.* in c:\\users\\janardhan\\anaconda3\\lib\\site-packages (from httpx->llama-index-core<0.12.0,>=0.11.9->llama_index) (1.0.5)\n",
      "Requirement already satisfied: idna in c:\\users\\janardhan\\anaconda3\\lib\\site-packages (from httpx->llama-index-core<0.12.0,>=0.11.9->llama_index) (3.4)\n",
      "Requirement already satisfied: sniffio in c:\\users\\janardhan\\anaconda3\\lib\\site-packages (from httpx->llama-index-core<0.12.0,>=0.11.9->llama_index) (1.3.0)\n",
      "Requirement already satisfied: h11<0.15,>=0.13 in c:\\users\\janardhan\\anaconda3\\lib\\site-packages (from httpcore==1.*->httpx->llama-index-core<0.12.0,>=0.11.9->llama_index) (0.14.0)\n",
      "Requirement already satisfied: distro<2,>=1.7.0 in c:\\users\\janardhan\\anaconda3\\lib\\site-packages (from openai>=1.14.0->llama-index-agent-openai<0.4.0,>=0.3.1->llama_index) (1.8.0)\n",
      "Collecting jiter<1,>=0.4.0 (from openai>=1.14.0->llama-index-agent-openai<0.4.0,>=0.3.1->llama_index)\n",
      "  Downloading jiter-0.5.0-cp311-none-win_amd64.whl.metadata (3.7 kB)\n",
      "Collecting typing-extensions>=4.5.0 (from llama-index-core<0.12.0,>=0.11.9->llama_index)\n",
      "  Downloading typing_extensions-4.12.2-py3-none-any.whl.metadata (3.0 kB)\n",
      "Requirement already satisfied: annotated-types>=0.4.0 in c:\\users\\janardhan\\anaconda3\\lib\\site-packages (from pydantic<3.0.0,>=2.7.0->llama-index-core<0.12.0,>=0.11.9->llama_index) (0.7.0)\n",
      "Requirement already satisfied: pydantic-core==2.20.1 in c:\\users\\janardhan\\anaconda3\\lib\\site-packages (from pydantic<3.0.0,>=2.7.0->llama-index-core<0.12.0,>=0.11.9->llama_index) (2.20.1)\n",
      "Requirement already satisfied: charset-normalizer<4,>=2 in c:\\users\\janardhan\\anaconda3\\lib\\site-packages (from requests>=2.31.0->llama-index-core<0.12.0,>=0.11.9->llama_index) (3.3.2)\n",
      "Requirement already satisfied: urllib3<3,>=1.21.1 in c:\\users\\janardhan\\anaconda3\\lib\\site-packages (from requests>=2.31.0->llama-index-core<0.12.0,>=0.11.9->llama_index) (2.0.7)\n",
      "Requirement already satisfied: greenlet!=0.4.17 in c:\\users\\janardhan\\anaconda3\\lib\\site-packages (from SQLAlchemy>=1.4.49->SQLAlchemy[asyncio]>=1.4.49->llama-index-core<0.12.0,>=0.11.9->llama_index) (3.0.1)\n",
      "Requirement already satisfied: colorama in c:\\users\\janardhan\\anaconda3\\lib\\site-packages (from tqdm<5.0.0,>=4.66.1->llama-index-core<0.12.0,>=0.11.9->llama_index) (0.4.6)\n",
      "Requirement already satisfied: mypy-extensions>=0.3.0 in c:\\users\\janardhan\\anaconda3\\lib\\site-packages (from typing-inspect>=0.8.0->llama-index-core<0.12.0,>=0.11.9->llama_index) (1.0.0)\n",
      "Requirement already satisfied: marshmallow<4.0.0,>=3.18.0 in c:\\users\\janardhan\\anaconda3\\lib\\site-packages (from dataclasses-json->llama-index-core<0.12.0,>=0.11.9->llama_index) (3.21.3)\n",
      "Requirement already satisfied: python-dateutil>=2.8.2 in c:\\users\\janardhan\\anaconda3\\lib\\site-packages (from pandas->llama-index-legacy<0.10.0,>=0.9.48->llama_index) (2.8.2)\n",
      "Requirement already satisfied: pytz>=2020.1 in c:\\users\\janardhan\\anaconda3\\lib\\site-packages (from pandas->llama-index-legacy<0.10.0,>=0.9.48->llama_index) (2023.3.post1)\n",
      "Requirement already satisfied: tzdata>=2022.1 in c:\\users\\janardhan\\anaconda3\\lib\\site-packages (from pandas->llama-index-legacy<0.10.0,>=0.9.48->llama_index) (2023.3)\n",
      "Requirement already satisfied: packaging>=17.0 in c:\\users\\janardhan\\anaconda3\\lib\\site-packages (from marshmallow<4.0.0,>=3.18.0->dataclasses-json->llama-index-core<0.12.0,>=0.11.9->llama_index) (24.1)\n",
      "Requirement already satisfied: six>=1.5 in c:\\users\\janardhan\\anaconda3\\lib\\site-packages (from python-dateutil>=2.8.2->pandas->llama-index-legacy<0.10.0,>=0.9.48->llama_index) (1.16.0)\n",
      "Downloading llama_index-0.11.9-py3-none-any.whl (6.8 kB)\n",
      "Downloading llama_index_agent_openai-0.3.1-py3-none-any.whl (13 kB)\n",
      "Downloading llama_index_cli-0.3.1-py3-none-any.whl (27 kB)\n",
      "Downloading llama_index_core-0.11.9-py3-none-any.whl (1.6 MB)\n",
      "   ---------------------------------------- 0.0/1.6 MB ? eta -:--:--\n",
      "   -- ------------------------------------- 0.1/1.6 MB 2.6 MB/s eta 0:00:01\n",
      "   ----- ---------------------------------- 0.2/1.6 MB 2.3 MB/s eta 0:00:01\n",
      "   ------ --------------------------------- 0.3/1.6 MB 2.0 MB/s eta 0:00:01\n",
      "   ------------ --------------------------- 0.5/1.6 MB 2.8 MB/s eta 0:00:01\n",
      "   -------------- ------------------------- 0.6/1.6 MB 2.4 MB/s eta 0:00:01\n",
      "   ---------------------------- ----------- 1.1/1.6 MB 3.9 MB/s eta 0:00:01\n",
      "   ---------------------------------- ----- 1.3/1.6 MB 4.3 MB/s eta 0:00:01\n",
      "   ---------------------------------------  1.6/1.6 MB 4.3 MB/s eta 0:00:01\n",
      "   ---------------------------------------- 1.6/1.6 MB 4.1 MB/s eta 0:00:00\n",
      "Downloading llama_index_embeddings_openai-0.2.4-py3-none-any.whl (6.1 kB)\n",
      "Downloading llama_index_indices_managed_llama_cloud-0.3.0-py3-none-any.whl (9.5 kB)\n",
      "Downloading llama_index_legacy-0.9.48.post3-py3-none-any.whl (1.2 MB)\n",
      "   ---------------------------------------- 0.0/1.2 MB ? eta -:--:--\n",
      "   ------------------ --------------------- 0.6/1.2 MB 17.5 MB/s eta 0:00:01\n",
      "   -------------------------------- ------- 1.0/1.2 MB 10.2 MB/s eta 0:00:01\n",
      "   ---------------------------------------- 1.2/1.2 MB 10.9 MB/s eta 0:00:00\n",
      "Downloading llama_index_llms_openai-0.2.5-py3-none-any.whl (12 kB)\n",
      "Downloading llama_index_multi_modal_llms_openai-0.2.0-py3-none-any.whl (5.9 kB)\n",
      "Downloading llama_index_program_openai-0.2.0-py3-none-any.whl (5.3 kB)\n",
      "Downloading llama_index_question_gen_openai-0.2.0-py3-none-any.whl (2.9 kB)\n",
      "Downloading llama_index_readers_file-0.2.1-py3-none-any.whl (38 kB)\n",
      "Downloading llama_index_readers_llama_parse-0.3.0-py3-none-any.whl (2.5 kB)\n",
      "Downloading nltk-3.9.1-py3-none-any.whl (1.5 MB)\n",
      "   ---------------------------------------- 0.0/1.5 MB ? eta -:--:--\n",
      "   -------------- ------------------------- 0.6/1.5 MB 17.8 MB/s eta 0:00:01\n",
      "   ---------------------------------- ----- 1.3/1.5 MB 16.4 MB/s eta 0:00:01\n",
      "   ---------------------------------------- 1.5/1.5 MB 12.0 MB/s eta 0:00:00\n",
      "Downloading beautifulsoup4-4.12.3-py3-none-any.whl (147 kB)\n",
      "   ---------------------------------------- 0.0/147.9 kB ? eta -:--:--\n",
      "   ---------------------------------------- 147.9/147.9 kB ? eta 0:00:00\n",
      "Downloading Deprecated-1.2.14-py2.py3-none-any.whl (9.6 kB)\n",
      "Downloading dirtyjson-1.0.8-py3-none-any.whl (25 kB)\n",
      "Downloading llama_cloud-0.0.17-py3-none-any.whl (187 kB)\n",
      "   ---------------------------------------- 0.0/187.4 kB ? eta -:--:--\n",
      "   ---------------------------------------- 187.4/187.4 kB ? eta 0:00:00\n",
      "Downloading llama_parse-0.5.5-py3-none-any.whl (10 kB)\n",
      "Downloading openai-1.45.0-py3-none-any.whl (374 kB)\n",
      "   ---------------------------------------- 0.0/374.1 kB ? eta -:--:--\n",
      "   --------------------------------------- 374.1/374.1 kB 11.7 MB/s eta 0:00:00\n",
      "Downloading striprtf-0.0.26-py3-none-any.whl (6.9 kB)\n",
      "Downloading tqdm-4.66.5-py3-none-any.whl (78 kB)\n",
      "   ---------------------------------------- 0.0/78.4 kB ? eta -:--:--\n",
      "   ---------------------------------------- 78.4/78.4 kB 4.5 MB/s eta 0:00:00\n",
      "Downloading typing_extensions-4.12.2-py3-none-any.whl (37 kB)\n",
      "Downloading jiter-0.5.0-cp311-none-win_amd64.whl (191 kB)\n",
      "   ---------------------------------------- 0.0/191.0 kB ? eta -:--:--\n",
      "   ----------------------- ---------------- 112.6/191.0 kB 3.3 MB/s eta 0:00:01\n",
      "   ---------------------------------------- 191.0/191.0 kB 2.3 MB/s eta 0:00:00\n",
      "Installing collected packages: striprtf, dirtyjson, typing-extensions, tqdm, jiter, deprecated, beautifulsoup4, nltk, openai, llama-index-core, llama-cloud, llama-parse, llama-index-readers-file, llama-index-legacy, llama-index-indices-managed-llama-cloud, llama-index-embeddings-openai, llama-index-readers-llama-parse, llama-index-llms-openai, llama-index-agent-openai, llama-index-program-openai, llama-index-question-gen-openai, llama-index-multi-modal-llms-openai, llama-index-cli, llama_index\n",
      "  Attempting uninstall: typing-extensions\n",
      "    Found existing installation: typing_extensions 4.9.0\n",
      "    Uninstalling typing_extensions-4.9.0:\n",
      "      Successfully uninstalled typing_extensions-4.9.0\n",
      "  Attempting uninstall: tqdm\n",
      "    Found existing installation: tqdm 4.65.0\n",
      "    Uninstalling tqdm-4.65.0:\n",
      "      Successfully uninstalled tqdm-4.65.0\n",
      "  Attempting uninstall: beautifulsoup4\n",
      "    Found existing installation: beautifulsoup4 4.12.2\n",
      "    Uninstalling beautifulsoup4-4.12.2:\n",
      "      Successfully uninstalled beautifulsoup4-4.12.2\n",
      "  Attempting uninstall: nltk\n",
      "    Found existing installation: nltk 3.8.1\n",
      "    Uninstalling nltk-3.8.1:\n",
      "      Successfully uninstalled nltk-3.8.1\n",
      "  Attempting uninstall: openai\n",
      "    Found existing installation: openai 1.35.14\n",
      "    Uninstalling openai-1.35.14:\n",
      "      Successfully uninstalled openai-1.35.14\n",
      "Successfully installed beautifulsoup4-4.12.3 deprecated-1.2.14 dirtyjson-1.0.8 jiter-0.5.0 llama-cloud-0.0.17 llama-index-agent-openai-0.3.1 llama-index-cli-0.3.1 llama-index-core-0.11.9 llama-index-embeddings-openai-0.2.4 llama-index-indices-managed-llama-cloud-0.3.0 llama-index-legacy-0.9.48.post3 llama-index-llms-openai-0.2.5 llama-index-multi-modal-llms-openai-0.2.0 llama-index-program-openai-0.2.0 llama-index-question-gen-openai-0.2.0 llama-index-readers-file-0.2.1 llama-index-readers-llama-parse-0.3.0 llama-parse-0.5.5 llama_index-0.11.9 nltk-3.9.1 openai-1.45.0 striprtf-0.0.26 tqdm-4.66.5 typing-extensions-4.12.2\n"
     ]
    },
    {
     "name": "stderr",
     "output_type": "stream",
     "text": [
      "ERROR: pip's dependency resolver does not currently take into account all the packages that are installed. This behaviour is the source of the following dependency conflicts.\n",
      "streamlit 1.30.0 requires packaging<24,>=16.8, but you have packaging 24.1 which is incompatible.\n"
     ]
    }
   ],
   "source": [
    "!pip install llama_index"
   ]
  },
  {
   "cell_type": "code",
   "execution_count": 8,
   "id": "f26a60df-3d70-4a72-a8c1-3c54ce4d8a65",
   "metadata": {},
   "outputs": [],
   "source": [
    "pdf_documents = reader.load_data()"
   ]
  },
  {
   "cell_type": "code",
   "execution_count": 9,
   "id": "9303ed64-d9f6-4c71-91d0-e99467ae1063",
   "metadata": {},
   "outputs": [],
   "source": [
    "from llama_index.core import VectorStoreIndex"
   ]
  },
  {
   "cell_type": "code",
   "execution_count": 10,
   "id": "1096624a-980c-4762-8c0b-78725d0249a2",
   "metadata": {},
   "outputs": [],
   "source": [
    "index = VectorStoreIndex.from_documents(pdf_documents)"
   ]
  },
  {
   "cell_type": "code",
   "execution_count": 11,
   "id": "a487fc58-6336-4ffe-9c32-34bca32065f9",
   "metadata": {},
   "outputs": [
    {
     "name": "stdout",
     "output_type": "stream",
     "text": [
      "Krishna is described as the creator of all things, the origin of all gods and great Rishis, the Supreme Brahman, the eternal Purusha, and the Lord in the provided context.\n"
     ]
    }
   ],
   "source": [
    "query_engine = index.as_query_engine()\n",
    "response = query_engine.query(\"who is krishna\")\n",
    "print(response)"
   ]
  },
  {
   "cell_type": "code",
   "execution_count": 12,
   "id": "a35d1ab6-dfe6-43dd-bfb8-d79198f804d4",
   "metadata": {},
   "outputs": [
    {
     "name": "stdout",
     "output_type": "stream",
     "text": [
      "Chapter 2 of the Bhagavad Gita discusses the concept of Sankhya Yoga, which emphasizes the importance of selfless action and the renunciation of the fruits of one's actions. It also delves into the idea of the Yoga of Knowledge, highlighting the importance of understanding the true nature of the self and the impermanence of the physical body. Additionally, the chapter touches upon the significance of self-restraint and spiritual discernment in achieving inner peace and enlightenment.\n"
     ]
    }
   ],
   "source": [
    "response = query_engine.query(\"Provide me summary of chapter 2 in 3 sentences\")\n",
    "print(response)"
   ]
  },
  {
   "cell_type": "code",
   "execution_count": null,
   "id": "b61d6a6e-4b42-4ede-a199-1d0035b461ae",
   "metadata": {},
   "outputs": [],
   "source": []
  }
 ],
 "metadata": {
  "kernelspec": {
   "display_name": "Python 3 (ipykernel)",
   "language": "python",
   "name": "python3"
  },
  "language_info": {
   "codemirror_mode": {
    "name": "ipython",
    "version": 3
   },
   "file_extension": ".py",
   "mimetype": "text/x-python",
   "name": "python",
   "nbconvert_exporter": "python",
   "pygments_lexer": "ipython3",
   "version": "3.12.4"
  }
 },
 "nbformat": 4,
 "nbformat_minor": 5
}
